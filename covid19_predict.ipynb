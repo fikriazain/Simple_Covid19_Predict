{
 "cells": [
  {
   "cell_type": "markdown",
   "metadata": {},
   "source": [
    "# Predict Covid-19 using Polynomial Regression and Linear Regression"
   ]
  },
  {
   "cell_type": "code",
   "execution_count": 1,
   "metadata": {
    "id": "eUq-xo8nlIwt"
   },
   "outputs": [],
   "source": [
    "#import all packages/libraries\n",
    "import pandas as pd\n",
    "import matplotlib.pyplot as plt\n",
    "from sklearn.model_selection import train_test_split\n",
    "from sklearn.preprocessing import PolynomialFeatures\n",
    "from sklearn.linear_model import LinearRegression\n",
    "from sklearn import metrics\n",
    "import numpy as np"
   ]
  },
  {
   "cell_type": "code",
   "execution_count": 2,
   "metadata": {
    "id": "qqRIL4XilIwv",
    "outputId": "477eabe5-4cfb-4795-ffb1-74dacba1b4ce"
   },
   "outputs": [
    {
     "data": {
      "text/html": [
       "<div>\n",
       "<style scoped>\n",
       "    .dataframe tbody tr th:only-of-type {\n",
       "        vertical-align: middle;\n",
       "    }\n",
       "\n",
       "    .dataframe tbody tr th {\n",
       "        vertical-align: top;\n",
       "    }\n",
       "\n",
       "    .dataframe thead th {\n",
       "        text-align: right;\n",
       "    }\n",
       "</style>\n",
       "<table border=\"1\" class=\"dataframe\">\n",
       "  <thead>\n",
       "    <tr style=\"text-align: right;\">\n",
       "      <th></th>\n",
       "      <th>Tanggal</th>\n",
       "      <th>Kasus_harian</th>\n",
       "      <th>Total_kasus</th>\n",
       "      <th>Kasus_aktif</th>\n",
       "      <th>Sembuh_baru</th>\n",
       "      <th>Sembuh</th>\n",
       "      <th>Meninggal_baru</th>\n",
       "      <th>Meninggal_Dunia</th>\n",
       "    </tr>\n",
       "  </thead>\n",
       "  <tbody>\n",
       "    <tr>\n",
       "      <th>0</th>\n",
       "      <td>2021-07-01</td>\n",
       "      <td>24836</td>\n",
       "      <td>2203108</td>\n",
       "      <td>253826</td>\n",
       "      <td>9874</td>\n",
       "      <td>1890287</td>\n",
       "      <td>504</td>\n",
       "      <td>58995</td>\n",
       "    </tr>\n",
       "    <tr>\n",
       "      <th>1</th>\n",
       "      <td>2021-07-02</td>\n",
       "      <td>25830</td>\n",
       "      <td>2228938</td>\n",
       "      <td>267539</td>\n",
       "      <td>11578</td>\n",
       "      <td>1901865</td>\n",
       "      <td>539</td>\n",
       "      <td>59534</td>\n",
       "    </tr>\n",
       "    <tr>\n",
       "      <th>2</th>\n",
       "      <td>2021-07-03</td>\n",
       "      <td>27913</td>\n",
       "      <td>2256851</td>\n",
       "      <td>281677</td>\n",
       "      <td>13282</td>\n",
       "      <td>1915147</td>\n",
       "      <td>493</td>\n",
       "      <td>60027</td>\n",
       "    </tr>\n",
       "    <tr>\n",
       "      <th>3</th>\n",
       "      <td>2021-07-04</td>\n",
       "      <td>27233</td>\n",
       "      <td>2284084</td>\n",
       "      <td>295228</td>\n",
       "      <td>13127</td>\n",
       "      <td>1928274</td>\n",
       "      <td>555</td>\n",
       "      <td>60582</td>\n",
       "    </tr>\n",
       "    <tr>\n",
       "      <th>4</th>\n",
       "      <td>2021-07-05</td>\n",
       "      <td>29745</td>\n",
       "      <td>2313829</td>\n",
       "      <td>309999</td>\n",
       "      <td>14416</td>\n",
       "      <td>1942690</td>\n",
       "      <td>558</td>\n",
       "      <td>61140</td>\n",
       "    </tr>\n",
       "  </tbody>\n",
       "</table>\n",
       "</div>"
      ],
      "text/plain": [
       "      Tanggal  Kasus_harian  Total_kasus  Kasus_aktif  Sembuh_baru   Sembuh  \\\n",
       "0  2021-07-01         24836      2203108       253826         9874  1890287   \n",
       "1  2021-07-02         25830      2228938       267539        11578  1901865   \n",
       "2  2021-07-03         27913      2256851       281677        13282  1915147   \n",
       "3  2021-07-04         27233      2284084       295228        13127  1928274   \n",
       "4  2021-07-05         29745      2313829       309999        14416  1942690   \n",
       "\n",
       "   Meninggal_baru  Meninggal_Dunia  \n",
       "0             504            58995  \n",
       "1             539            59534  \n",
       "2             493            60027  \n",
       "3             555            60582  \n",
       "4             558            61140  "
      ]
     },
     "execution_count": 2,
     "metadata": {},
     "output_type": "execute_result"
    }
   ],
   "source": [
    "df = pd.read_csv('data/covid_indonesia_2.csv')\n",
    "df.head()"
   ]
  },
  {
   "cell_type": "markdown",
   "metadata": {
    "id": "RceNiCKrlIww"
   },
   "source": [
    "# Data Preparation"
   ]
  },
  {
   "cell_type": "code",
   "execution_count": 3,
   "metadata": {
    "id": "NrttG21-lIwx",
    "outputId": "839deacc-9f56-4da6-b55d-ee79e6d4dfe4"
   },
   "outputs": [
    {
     "data": {
      "text/html": [
       "<div>\n",
       "<style scoped>\n",
       "    .dataframe tbody tr th:only-of-type {\n",
       "        vertical-align: middle;\n",
       "    }\n",
       "\n",
       "    .dataframe tbody tr th {\n",
       "        vertical-align: top;\n",
       "    }\n",
       "\n",
       "    .dataframe thead th {\n",
       "        text-align: right;\n",
       "    }\n",
       "</style>\n",
       "<table border=\"1\" class=\"dataframe\">\n",
       "  <thead>\n",
       "    <tr style=\"text-align: right;\">\n",
       "      <th></th>\n",
       "      <th>Kasus_harian</th>\n",
       "      <th>Total_kasus</th>\n",
       "      <th>Kasus_aktif</th>\n",
       "      <th>Sembuh_baru</th>\n",
       "      <th>Sembuh</th>\n",
       "      <th>Meninggal_baru</th>\n",
       "      <th>Meninggal_Dunia</th>\n",
       "    </tr>\n",
       "  </thead>\n",
       "  <tbody>\n",
       "    <tr>\n",
       "      <th>count</th>\n",
       "      <td>137.000000</td>\n",
       "      <td>1.370000e+02</td>\n",
       "      <td>137.000000</td>\n",
       "      <td>137.000000</td>\n",
       "      <td>1.370000e+02</td>\n",
       "      <td>137.000000</td>\n",
       "      <td>137.00000</td>\n",
       "    </tr>\n",
       "    <tr>\n",
       "      <th>mean</th>\n",
       "      <td>15128.343066</td>\n",
       "      <td>3.800636e+06</td>\n",
       "      <td>212836.240876</td>\n",
       "      <td>16188.065693</td>\n",
       "      <td>3.467221e+06</td>\n",
       "      <td>621.664234</td>\n",
       "      <td>120578.20438</td>\n",
       "    </tr>\n",
       "    <tr>\n",
       "      <th>std</th>\n",
       "      <td>16758.477055</td>\n",
       "      <td>6.121355e+05</td>\n",
       "      <td>201927.468029</td>\n",
       "      <td>15064.380154</td>\n",
       "      <td>7.427454e+05</td>\n",
       "      <td>614.988956</td>\n",
       "      <td>28539.47019</td>\n",
       "    </tr>\n",
       "    <tr>\n",
       "      <th>min</th>\n",
       "      <td>244.000000</td>\n",
       "      <td>2.203108e+06</td>\n",
       "      <td>9018.000000</td>\n",
       "      <td>451.000000</td>\n",
       "      <td>1.890287e+06</td>\n",
       "      <td>11.000000</td>\n",
       "      <td>58995.00000</td>\n",
       "    </tr>\n",
       "    <tr>\n",
       "      <th>25%</th>\n",
       "      <td>1053.000000</td>\n",
       "      <td>3.532567e+06</td>\n",
       "      <td>22541.000000</td>\n",
       "      <td>1946.000000</td>\n",
       "      <td>2.907920e+06</td>\n",
       "      <td>50.000000</td>\n",
       "      <td>100636.00000</td>\n",
       "    </tr>\n",
       "    <tr>\n",
       "      <th>50%</th>\n",
       "      <td>5436.000000</td>\n",
       "      <td>4.140634e+06</td>\n",
       "      <td>138630.000000</td>\n",
       "      <td>12474.000000</td>\n",
       "      <td>3.864848e+06</td>\n",
       "      <td>493.000000</td>\n",
       "      <td>137156.00000</td>\n",
       "    </tr>\n",
       "    <tr>\n",
       "      <th>75%</th>\n",
       "      <td>29745.000000</td>\n",
       "      <td>4.228552e+06</td>\n",
       "      <td>380797.000000</td>\n",
       "      <td>29794.000000</td>\n",
       "      <td>4.063295e+06</td>\n",
       "      <td>1128.000000</td>\n",
       "      <td>142716.00000</td>\n",
       "    </tr>\n",
       "    <tr>\n",
       "      <th>max</th>\n",
       "      <td>56757.000000</td>\n",
       "      <td>4.250855e+06</td>\n",
       "      <td>574135.000000</td>\n",
       "      <td>48832.000000</td>\n",
       "      <td>4.098178e+06</td>\n",
       "      <td>2069.000000</td>\n",
       "      <td>143659.00000</td>\n",
       "    </tr>\n",
       "  </tbody>\n",
       "</table>\n",
       "</div>"
      ],
      "text/plain": [
       "       Kasus_harian   Total_kasus    Kasus_aktif   Sembuh_baru        Sembuh  \\\n",
       "count    137.000000  1.370000e+02     137.000000    137.000000  1.370000e+02   \n",
       "mean   15128.343066  3.800636e+06  212836.240876  16188.065693  3.467221e+06   \n",
       "std    16758.477055  6.121355e+05  201927.468029  15064.380154  7.427454e+05   \n",
       "min      244.000000  2.203108e+06    9018.000000    451.000000  1.890287e+06   \n",
       "25%     1053.000000  3.532567e+06   22541.000000   1946.000000  2.907920e+06   \n",
       "50%     5436.000000  4.140634e+06  138630.000000  12474.000000  3.864848e+06   \n",
       "75%    29745.000000  4.228552e+06  380797.000000  29794.000000  4.063295e+06   \n",
       "max    56757.000000  4.250855e+06  574135.000000  48832.000000  4.098178e+06   \n",
       "\n",
       "       Meninggal_baru  Meninggal_Dunia  \n",
       "count      137.000000        137.00000  \n",
       "mean       621.664234     120578.20438  \n",
       "std        614.988956      28539.47019  \n",
       "min         11.000000      58995.00000  \n",
       "25%         50.000000     100636.00000  \n",
       "50%        493.000000     137156.00000  \n",
       "75%       1128.000000     142716.00000  \n",
       "max       2069.000000     143659.00000  "
      ]
     },
     "execution_count": 3,
     "metadata": {},
     "output_type": "execute_result"
    }
   ],
   "source": [
    "df.describe()"
   ]
  },
  {
   "cell_type": "code",
   "execution_count": 4,
   "metadata": {
    "id": "z3ZJYoqRlIwy",
    "outputId": "01b096ab-e0cb-4e55-f452-2810bac878af"
   },
   "outputs": [
    {
     "data": {
      "text/plain": [
       "Tanggal            object\n",
       "Kasus_harian        int64\n",
       "Total_kasus         int64\n",
       "Kasus_aktif         int64\n",
       "Sembuh_baru         int64\n",
       "Sembuh              int64\n",
       "Meninggal_baru      int64\n",
       "Meninggal_Dunia     int64\n",
       "dtype: object"
      ]
     },
     "execution_count": 4,
     "metadata": {},
     "output_type": "execute_result"
    }
   ],
   "source": [
    "df.dtypes"
   ]
  },
  {
   "cell_type": "code",
   "execution_count": 25,
   "metadata": {},
   "outputs": [
    {
     "data": {
      "image/png": "[encoded data removed]",
      "text/plain": [
       "<Figure size 864x576 with 1 Axes>"
      ]
     },
     "metadata": {
      "needs_background": "light"
     },
     "output_type": "display_data"
    }
   ],
   "source": [
    "# Analyze outliers\n",
    "\n",
    "fig, ax = plt.subplots(figsize=(12,8))\n",
    "\n",
    "ax.boxplot(df['Kasus_harian'])\n",
    "ax.set_xlabel('Daily Cases')\n",
    "plt.title('Boxplot Daily Cases')\n",
    "plt.show()"
   ]
  },
  {
   "cell_type": "markdown",
   "metadata": {
    "id": "Gq8fh0_7lIwz"
   },
   "source": [
    "Because what I will use is the date column as the time-series and the daily case as our input, so consider this as two columns. In the daily case details, it can be seen that the max and min values are very far away with 50% of the data being in the 5000's. Far from the average in the 15000s. So in this case i'm using logarithmic normalization and change the date to numeric\n"
   ]
  },
  {
   "cell_type": "code",
   "execution_count": 6,
   "metadata": {
    "id": "OJx8HqbIlIwz",
    "outputId": "2865b7c7-2bfc-44a9-8945-00d0028243b4"
   },
   "outputs": [
    {
     "data": {
      "text/html": [
       "<div>\n",
       "<style scoped>\n",
       "    .dataframe tbody tr th:only-of-type {\n",
       "        vertical-align: middle;\n",
       "    }\n",
       "\n",
       "    .dataframe tbody tr th {\n",
       "        vertical-align: top;\n",
       "    }\n",
       "\n",
       "    .dataframe thead th {\n",
       "        text-align: right;\n",
       "    }\n",
       "</style>\n",
       "<table border=\"1\" class=\"dataframe\">\n",
       "  <thead>\n",
       "    <tr style=\"text-align: right;\">\n",
       "      <th></th>\n",
       "      <th>Tanggal</th>\n",
       "      <th>Kasus_harian</th>\n",
       "      <th>Total_kasus</th>\n",
       "      <th>Kasus_aktif</th>\n",
       "      <th>Sembuh_baru</th>\n",
       "      <th>Sembuh</th>\n",
       "      <th>Meninggal_baru</th>\n",
       "      <th>Meninggal_Dunia</th>\n",
       "      <th>case_norm</th>\n",
       "    </tr>\n",
       "  </thead>\n",
       "  <tbody>\n",
       "    <tr>\n",
       "      <th>0</th>\n",
       "      <td>2021-07-01</td>\n",
       "      <td>24836</td>\n",
       "      <td>2203108</td>\n",
       "      <td>253826</td>\n",
       "      <td>9874</td>\n",
       "      <td>1890287</td>\n",
       "      <td>504</td>\n",
       "      <td>58995</td>\n",
       "      <td>10.120049</td>\n",
       "    </tr>\n",
       "    <tr>\n",
       "      <th>1</th>\n",
       "      <td>2021-07-02</td>\n",
       "      <td>25830</td>\n",
       "      <td>2228938</td>\n",
       "      <td>267539</td>\n",
       "      <td>11578</td>\n",
       "      <td>1901865</td>\n",
       "      <td>539</td>\n",
       "      <td>59534</td>\n",
       "      <td>10.159292</td>\n",
       "    </tr>\n",
       "    <tr>\n",
       "      <th>2</th>\n",
       "      <td>2021-07-03</td>\n",
       "      <td>27913</td>\n",
       "      <td>2256851</td>\n",
       "      <td>281677</td>\n",
       "      <td>13282</td>\n",
       "      <td>1915147</td>\n",
       "      <td>493</td>\n",
       "      <td>60027</td>\n",
       "      <td>10.236848</td>\n",
       "    </tr>\n",
       "    <tr>\n",
       "      <th>3</th>\n",
       "      <td>2021-07-04</td>\n",
       "      <td>27233</td>\n",
       "      <td>2284084</td>\n",
       "      <td>295228</td>\n",
       "      <td>13127</td>\n",
       "      <td>1928274</td>\n",
       "      <td>555</td>\n",
       "      <td>60582</td>\n",
       "      <td>10.212185</td>\n",
       "    </tr>\n",
       "    <tr>\n",
       "      <th>4</th>\n",
       "      <td>2021-07-05</td>\n",
       "      <td>29745</td>\n",
       "      <td>2313829</td>\n",
       "      <td>309999</td>\n",
       "      <td>14416</td>\n",
       "      <td>1942690</td>\n",
       "      <td>558</td>\n",
       "      <td>61140</td>\n",
       "      <td>10.300416</td>\n",
       "    </tr>\n",
       "    <tr>\n",
       "      <th>...</th>\n",
       "      <td>...</td>\n",
       "      <td>...</td>\n",
       "      <td>...</td>\n",
       "      <td>...</td>\n",
       "      <td>...</td>\n",
       "      <td>...</td>\n",
       "      <td>...</td>\n",
       "      <td>...</td>\n",
       "      <td>...</td>\n",
       "    </tr>\n",
       "    <tr>\n",
       "      <th>132</th>\n",
       "      <td>2021-11-10</td>\n",
       "      <td>480</td>\n",
       "      <td>4249323</td>\n",
       "      <td>9537</td>\n",
       "      <td>531</td>\n",
       "      <td>4096194</td>\n",
       "      <td>14</td>\n",
       "      <td>143592</td>\n",
       "      <td>6.173786</td>\n",
       "    </tr>\n",
       "    <tr>\n",
       "      <th>133</th>\n",
       "      <td>2021-11-11</td>\n",
       "      <td>435</td>\n",
       "      <td>4249758</td>\n",
       "      <td>9486</td>\n",
       "      <td>470</td>\n",
       "      <td>4096664</td>\n",
       "      <td>16</td>\n",
       "      <td>143608</td>\n",
       "      <td>6.075346</td>\n",
       "    </tr>\n",
       "    <tr>\n",
       "      <th>134</th>\n",
       "      <td>2021-11-12</td>\n",
       "      <td>399</td>\n",
       "      <td>4250157</td>\n",
       "      <td>9305</td>\n",
       "      <td>560</td>\n",
       "      <td>4097224</td>\n",
       "      <td>20</td>\n",
       "      <td>143628</td>\n",
       "      <td>5.988961</td>\n",
       "    </tr>\n",
       "    <tr>\n",
       "      <th>135</th>\n",
       "      <td>2021-11-13</td>\n",
       "      <td>359</td>\n",
       "      <td>4250516</td>\n",
       "      <td>9198</td>\n",
       "      <td>451</td>\n",
       "      <td>4097675</td>\n",
       "      <td>15</td>\n",
       "      <td>143643</td>\n",
       "      <td>5.883322</td>\n",
       "    </tr>\n",
       "    <tr>\n",
       "      <th>136</th>\n",
       "      <td>2021-11-14</td>\n",
       "      <td>339</td>\n",
       "      <td>4250855</td>\n",
       "      <td>9018</td>\n",
       "      <td>503</td>\n",
       "      <td>4098178</td>\n",
       "      <td>16</td>\n",
       "      <td>143659</td>\n",
       "      <td>5.826000</td>\n",
       "    </tr>\n",
       "  </tbody>\n",
       "</table>\n",
       "<p>137 rows × 9 columns</p>\n",
       "</div>"
      ],
      "text/plain": [
       "        Tanggal  Kasus_harian  Total_kasus  Kasus_aktif  Sembuh_baru   Sembuh  \\\n",
       "0    2021-07-01         24836      2203108       253826         9874  1890287   \n",
       "1    2021-07-02         25830      2228938       267539        11578  1901865   \n",
       "2    2021-07-03         27913      2256851       281677        13282  1915147   \n",
       "3    2021-07-04         27233      2284084       295228        13127  1928274   \n",
       "4    2021-07-05         29745      2313829       309999        14416  1942690   \n",
       "..          ...           ...          ...          ...          ...      ...   \n",
       "132  2021-11-10           480      4249323         9537          531  4096194   \n",
       "133  2021-11-11           435      4249758         9486          470  4096664   \n",
       "134  2021-11-12           399      4250157         9305          560  4097224   \n",
       "135  2021-11-13           359      4250516         9198          451  4097675   \n",
       "136  2021-11-14           339      4250855         9018          503  4098178   \n",
       "\n",
       "     Meninggal_baru  Meninggal_Dunia  case_norm  \n",
       "0               504            58995  10.120049  \n",
       "1               539            59534  10.159292  \n",
       "2               493            60027  10.236848  \n",
       "3               555            60582  10.212185  \n",
       "4               558            61140  10.300416  \n",
       "..              ...              ...        ...  \n",
       "132              14           143592   6.173786  \n",
       "133              16           143608   6.075346  \n",
       "134              20           143628   5.988961  \n",
       "135              15           143643   5.883322  \n",
       "136              16           143659   5.826000  \n",
       "\n",
       "[137 rows x 9 columns]"
      ]
     },
     "execution_count": 6,
     "metadata": {},
     "output_type": "execute_result"
    }
   ],
   "source": [
    "df['case_norm'] = np.log(df['Kasus_harian'])\n",
    "df"
   ]
  },
  {
   "cell_type": "code",
   "execution_count": 7,
   "metadata": {
    "id": "di4QDT6zlIw1",
    "outputId": "942ceecf-56fd-4be2-9474-2cbcc40f366b"
   },
   "outputs": [
    {
     "name": "stdout",
     "output_type": "stream",
     "text": [
      "Value of default_date adalah : 2021-07-01 00:00:00\n"
     ]
    }
   ],
   "source": [
    "default_date = pd.to_datetime(df['Tanggal'].loc[0])\n",
    "print(f'Value of default_date adalah : {default_date}')"
   ]
  },
  {
   "cell_type": "code",
   "execution_count": 8,
   "metadata": {
    "id": "l2B8zW5UlIw1",
    "outputId": "9f9ee15f-7a4d-4d12-a5fc-9bf295828703"
   },
   "outputs": [
    {
     "data": {
      "text/html": [
       "<div>\n",
       "<style scoped>\n",
       "    .dataframe tbody tr th:only-of-type {\n",
       "        vertical-align: middle;\n",
       "    }\n",
       "\n",
       "    .dataframe tbody tr th {\n",
       "        vertical-align: top;\n",
       "    }\n",
       "\n",
       "    .dataframe thead th {\n",
       "        text-align: right;\n",
       "    }\n",
       "</style>\n",
       "<table border=\"1\" class=\"dataframe\">\n",
       "  <thead>\n",
       "    <tr style=\"text-align: right;\">\n",
       "      <th></th>\n",
       "      <th>Tanggal</th>\n",
       "      <th>Kasus_harian</th>\n",
       "      <th>Total_kasus</th>\n",
       "      <th>Kasus_aktif</th>\n",
       "      <th>Sembuh_baru</th>\n",
       "      <th>Sembuh</th>\n",
       "      <th>Meninggal_baru</th>\n",
       "      <th>Meninggal_Dunia</th>\n",
       "      <th>case_norm</th>\n",
       "      <th>days</th>\n",
       "    </tr>\n",
       "  </thead>\n",
       "  <tbody>\n",
       "    <tr>\n",
       "      <th>0</th>\n",
       "      <td>2021-07-01</td>\n",
       "      <td>24836</td>\n",
       "      <td>2203108</td>\n",
       "      <td>253826</td>\n",
       "      <td>9874</td>\n",
       "      <td>1890287</td>\n",
       "      <td>504</td>\n",
       "      <td>58995</td>\n",
       "      <td>10.120049</td>\n",
       "      <td>0</td>\n",
       "    </tr>\n",
       "    <tr>\n",
       "      <th>1</th>\n",
       "      <td>2021-07-02</td>\n",
       "      <td>25830</td>\n",
       "      <td>2228938</td>\n",
       "      <td>267539</td>\n",
       "      <td>11578</td>\n",
       "      <td>1901865</td>\n",
       "      <td>539</td>\n",
       "      <td>59534</td>\n",
       "      <td>10.159292</td>\n",
       "      <td>1</td>\n",
       "    </tr>\n",
       "    <tr>\n",
       "      <th>2</th>\n",
       "      <td>2021-07-03</td>\n",
       "      <td>27913</td>\n",
       "      <td>2256851</td>\n",
       "      <td>281677</td>\n",
       "      <td>13282</td>\n",
       "      <td>1915147</td>\n",
       "      <td>493</td>\n",
       "      <td>60027</td>\n",
       "      <td>10.236848</td>\n",
       "      <td>2</td>\n",
       "    </tr>\n",
       "    <tr>\n",
       "      <th>3</th>\n",
       "      <td>2021-07-04</td>\n",
       "      <td>27233</td>\n",
       "      <td>2284084</td>\n",
       "      <td>295228</td>\n",
       "      <td>13127</td>\n",
       "      <td>1928274</td>\n",
       "      <td>555</td>\n",
       "      <td>60582</td>\n",
       "      <td>10.212185</td>\n",
       "      <td>3</td>\n",
       "    </tr>\n",
       "    <tr>\n",
       "      <th>4</th>\n",
       "      <td>2021-07-05</td>\n",
       "      <td>29745</td>\n",
       "      <td>2313829</td>\n",
       "      <td>309999</td>\n",
       "      <td>14416</td>\n",
       "      <td>1942690</td>\n",
       "      <td>558</td>\n",
       "      <td>61140</td>\n",
       "      <td>10.300416</td>\n",
       "      <td>4</td>\n",
       "    </tr>\n",
       "    <tr>\n",
       "      <th>...</th>\n",
       "      <td>...</td>\n",
       "      <td>...</td>\n",
       "      <td>...</td>\n",
       "      <td>...</td>\n",
       "      <td>...</td>\n",
       "      <td>...</td>\n",
       "      <td>...</td>\n",
       "      <td>...</td>\n",
       "      <td>...</td>\n",
       "      <td>...</td>\n",
       "    </tr>\n",
       "    <tr>\n",
       "      <th>132</th>\n",
       "      <td>2021-11-10</td>\n",
       "      <td>480</td>\n",
       "      <td>4249323</td>\n",
       "      <td>9537</td>\n",
       "      <td>531</td>\n",
       "      <td>4096194</td>\n",
       "      <td>14</td>\n",
       "      <td>143592</td>\n",
       "      <td>6.173786</td>\n",
       "      <td>132</td>\n",
       "    </tr>\n",
       "    <tr>\n",
       "      <th>133</th>\n",
       "      <td>2021-11-11</td>\n",
       "      <td>435</td>\n",
       "      <td>4249758</td>\n",
       "      <td>9486</td>\n",
       "      <td>470</td>\n",
       "      <td>4096664</td>\n",
       "      <td>16</td>\n",
       "      <td>143608</td>\n",
       "      <td>6.075346</td>\n",
       "      <td>133</td>\n",
       "    </tr>\n",
       "    <tr>\n",
       "      <th>134</th>\n",
       "      <td>2021-11-12</td>\n",
       "      <td>399</td>\n",
       "      <td>4250157</td>\n",
       "      <td>9305</td>\n",
       "      <td>560</td>\n",
       "      <td>4097224</td>\n",
       "      <td>20</td>\n",
       "      <td>143628</td>\n",
       "      <td>5.988961</td>\n",
       "      <td>134</td>\n",
       "    </tr>\n",
       "    <tr>\n",
       "      <th>135</th>\n",
       "      <td>2021-11-13</td>\n",
       "      <td>359</td>\n",
       "      <td>4250516</td>\n",
       "      <td>9198</td>\n",
       "      <td>451</td>\n",
       "      <td>4097675</td>\n",
       "      <td>15</td>\n",
       "      <td>143643</td>\n",
       "      <td>5.883322</td>\n",
       "      <td>135</td>\n",
       "    </tr>\n",
       "    <tr>\n",
       "      <th>136</th>\n",
       "      <td>2021-11-14</td>\n",
       "      <td>339</td>\n",
       "      <td>4250855</td>\n",
       "      <td>9018</td>\n",
       "      <td>503</td>\n",
       "      <td>4098178</td>\n",
       "      <td>16</td>\n",
       "      <td>143659</td>\n",
       "      <td>5.826000</td>\n",
       "      <td>136</td>\n",
       "    </tr>\n",
       "  </tbody>\n",
       "</table>\n",
       "<p>137 rows × 10 columns</p>\n",
       "</div>"
      ],
      "text/plain": [
       "        Tanggal  Kasus_harian  Total_kasus  Kasus_aktif  Sembuh_baru   Sembuh  \\\n",
       "0    2021-07-01         24836      2203108       253826         9874  1890287   \n",
       "1    2021-07-02         25830      2228938       267539        11578  1901865   \n",
       "2    2021-07-03         27913      2256851       281677        13282  1915147   \n",
       "3    2021-07-04         27233      2284084       295228        13127  1928274   \n",
       "4    2021-07-05         29745      2313829       309999        14416  1942690   \n",
       "..          ...           ...          ...          ...          ...      ...   \n",
       "132  2021-11-10           480      4249323         9537          531  4096194   \n",
       "133  2021-11-11           435      4249758         9486          470  4096664   \n",
       "134  2021-11-12           399      4250157         9305          560  4097224   \n",
       "135  2021-11-13           359      4250516         9198          451  4097675   \n",
       "136  2021-11-14           339      4250855         9018          503  4098178   \n",
       "\n",
       "     Meninggal_baru  Meninggal_Dunia  case_norm  days  \n",
       "0               504            58995  10.120049     0  \n",
       "1               539            59534  10.159292     1  \n",
       "2               493            60027  10.236848     2  \n",
       "3               555            60582  10.212185     3  \n",
       "4               558            61140  10.300416     4  \n",
       "..              ...              ...        ...   ...  \n",
       "132              14           143592   6.173786   132  \n",
       "133              16           143608   6.075346   133  \n",
       "134              20           143628   5.988961   134  \n",
       "135              15           143643   5.883322   135  \n",
       "136              16           143659   5.826000   136  \n",
       "\n",
       "[137 rows x 10 columns]"
      ]
     },
     "execution_count": 8,
     "metadata": {},
     "output_type": "execute_result"
    }
   ],
   "source": [
    "df['days'] = df['Tanggal'].apply(lambda x: pd.Timedelta(pd.to_datetime(x) - default_date).days)\n",
    "df"
   ]
  },
  {
   "cell_type": "code",
   "execution_count": 9,
   "metadata": {
    "id": "WRiUe2StlIw2",
    "outputId": "d14b0daa-dd03-4f34-f2ef-9415f4264272"
   },
   "outputs": [
    {
     "data": {
      "text/html": [
       "<div>\n",
       "<style scoped>\n",
       "    .dataframe tbody tr th:only-of-type {\n",
       "        vertical-align: middle;\n",
       "    }\n",
       "\n",
       "    .dataframe tbody tr th {\n",
       "        vertical-align: top;\n",
       "    }\n",
       "\n",
       "    .dataframe thead th {\n",
       "        text-align: right;\n",
       "    }\n",
       "</style>\n",
       "<table border=\"1\" class=\"dataframe\">\n",
       "  <thead>\n",
       "    <tr style=\"text-align: right;\">\n",
       "      <th></th>\n",
       "      <th>case_norm</th>\n",
       "      <th>days</th>\n",
       "    </tr>\n",
       "  </thead>\n",
       "  <tbody>\n",
       "    <tr>\n",
       "      <th>0</th>\n",
       "      <td>10.120049</td>\n",
       "      <td>0</td>\n",
       "    </tr>\n",
       "    <tr>\n",
       "      <th>1</th>\n",
       "      <td>10.159292</td>\n",
       "      <td>1</td>\n",
       "    </tr>\n",
       "    <tr>\n",
       "      <th>2</th>\n",
       "      <td>10.236848</td>\n",
       "      <td>2</td>\n",
       "    </tr>\n",
       "    <tr>\n",
       "      <th>3</th>\n",
       "      <td>10.212185</td>\n",
       "      <td>3</td>\n",
       "    </tr>\n",
       "    <tr>\n",
       "      <th>4</th>\n",
       "      <td>10.300416</td>\n",
       "      <td>4</td>\n",
       "    </tr>\n",
       "    <tr>\n",
       "      <th>...</th>\n",
       "      <td>...</td>\n",
       "      <td>...</td>\n",
       "    </tr>\n",
       "    <tr>\n",
       "      <th>132</th>\n",
       "      <td>6.173786</td>\n",
       "      <td>132</td>\n",
       "    </tr>\n",
       "    <tr>\n",
       "      <th>133</th>\n",
       "      <td>6.075346</td>\n",
       "      <td>133</td>\n",
       "    </tr>\n",
       "    <tr>\n",
       "      <th>134</th>\n",
       "      <td>5.988961</td>\n",
       "      <td>134</td>\n",
       "    </tr>\n",
       "    <tr>\n",
       "      <th>135</th>\n",
       "      <td>5.883322</td>\n",
       "      <td>135</td>\n",
       "    </tr>\n",
       "    <tr>\n",
       "      <th>136</th>\n",
       "      <td>5.826000</td>\n",
       "      <td>136</td>\n",
       "    </tr>\n",
       "  </tbody>\n",
       "</table>\n",
       "<p>137 rows × 2 columns</p>\n",
       "</div>"
      ],
      "text/plain": [
       "     case_norm  days\n",
       "0    10.120049     0\n",
       "1    10.159292     1\n",
       "2    10.236848     2\n",
       "3    10.212185     3\n",
       "4    10.300416     4\n",
       "..         ...   ...\n",
       "132   6.173786   132\n",
       "133   6.075346   133\n",
       "134   5.988961   134\n",
       "135   5.883322   135\n",
       "136   5.826000   136\n",
       "\n",
       "[137 rows x 2 columns]"
      ]
     },
     "execution_count": 9,
     "metadata": {},
     "output_type": "execute_result"
    }
   ],
   "source": [
    "# Make new DataFrame\n",
    "\n",
    "new_df = df[['case_norm', 'days']]\n",
    "new_df"
   ]
  },
  {
   "cell_type": "markdown",
   "metadata": {
    "id": "j1QS416nlIw3"
   },
   "source": [
    "# DATA PROCESSING"
   ]
  },
  {
   "cell_type": "code",
   "execution_count": 10,
   "metadata": {
    "id": "y27lvtjjlIw3",
    "outputId": "2614c82a-897f-4fc6-c553-8bc28b4ca9dc"
   },
   "outputs": [
    {
     "name": "stdout",
     "output_type": "stream",
     "text": [
      "Dimension of X_train : 109\n",
      "Dimension of y_train : 109\n",
      "Dimension of X_test : 28\n",
      "Dimension of y_test : 28\n"
     ]
    }
   ],
   "source": [
    "#Building model\n",
    "X = np.array(df['days']).reshape((-1,1))\n",
    "y = np.array(df['case_norm']) \n",
    "\n",
    "X_train, X_test, y_train, y_test = train_test_split(X, y, test_size=0.2)\n",
    "\n",
    "\n",
    "print(f'Dimension of X_train : {len(X_train)}')\n",
    "print(f'Dimension of y_train : {len(y_train)}')\n",
    "print(f'Dimension of X_test : {len(X_test)}')\n",
    "print(f'Dimension of y_test : {len(y_test)}')\n",
    "\n",
    "\n"
   ]
  },
  {
   "cell_type": "markdown",
   "metadata": {
    "id": "vSu8MtqYlIw3"
   },
   "source": [
    "# Modelling"
   ]
  },
  {
   "cell_type": "code",
   "execution_count": 11,
   "metadata": {
    "id": "kDHWBgtslIw4",
    "outputId": "310e3a49-80dc-4313-fc4a-9f6111c9f65e"
   },
   "outputs": [
    {
     "data": {
      "text/plain": [
       "LinearRegression()"
      ]
     },
     "execution_count": 11,
     "metadata": {},
     "output_type": "execute_result"
    }
   ],
   "source": [
    "# Polynomial Regression\n",
    "poly_reg = PolynomialFeatures(degree=2)\n",
    "X_poly = poly_reg.fit_transform(X_train)\n",
    "\n",
    "# Linear Regression\n",
    "model = LinearRegression()\n",
    "model.fit(X_poly, y_train)"
   ]
  },
  {
   "cell_type": "markdown",
   "metadata": {
    "id": "j8W4YB0UlIw5"
   },
   "source": [
    "# Predict and Evaluate Model"
   ]
  },
  {
   "cell_type": "code",
   "execution_count": 12,
   "metadata": {
    "id": "ExqsD2PflIw5",
    "outputId": "3052c85c-cf1d-4c57-a5f7-483054c70ac0"
   },
   "outputs": [
    {
     "data": {
      "text/plain": [
       "array([ 9.26617997,  6.89474381, 10.08319808,  8.87498489,  8.29068795,\n",
       "        9.84674833, 10.1812637 ,  9.5270456 ,  8.9549679 ,  7.61724076,\n",
       "        8.71240289,  7.98251657,  6.94443627,  9.41655404, 11.02807988,\n",
       "        6.48935621,  9.98317047, 10.14879316,  9.07330742,  8.46198991,\n",
       "        5.58158278,  7.52374182, 10.27736733,  8.20372898,  9.9153954 ,\n",
       "        6.7947049 ,  9.67131569, 10.46368862])"
      ]
     },
     "execution_count": 12,
     "metadata": {},
     "output_type": "execute_result"
    }
   ],
   "source": [
    "X_tests = sorted(X_test) \n",
    "poly_x_test = poly_reg.fit_transform(X_test)\n",
    "\n",
    "y_pred = model.predict(poly_x_test)\n",
    "\n",
    "y_pred"
   ]
  },
  {
   "cell_type": "code",
   "execution_count": 13,
   "metadata": {
    "id": "G6dZjFs4lIw5",
    "outputId": "5d9b8c33-0158-4e2f-9d81-0234793fead8"
   },
   "outputs": [
    {
     "name": "stdout",
     "output_type": "stream",
     "text": [
      "The model performance for testing set\n",
      "--------------------------------------\n",
      "R2 score is 0.9327642312719866\n"
     ]
    }
   ],
   "source": [
    "r2 = metrics.r2_score(y_test, y_pred)\n",
    "\n",
    "print(\"The model performance for testing set\")\n",
    "print(\"--------------------------------------\")\n",
    "print('R2 score is {}'.format(r2))"
   ]
  },
  {
   "cell_type": "markdown",
   "metadata": {},
   "source": [
    "# PREDICT NEW DATA"
   ]
  },
  {
   "cell_type": "code",
   "execution_count": 14,
   "metadata": {
    "id": "NT4aSCOnlIw6",
    "outputId": "2773ac3f-e642-4a71-a680-95240908e1c6"
   },
   "outputs": [
    {
     "data": {
      "text/plain": [
       "array([[137],\n",
       "       [138],\n",
       "       [139],\n",
       "       [140],\n",
       "       [141],\n",
       "       [142],\n",
       "       [143],\n",
       "       [144],\n",
       "       [145],\n",
       "       [146],\n",
       "       [147],\n",
       "       [148],\n",
       "       [149],\n",
       "       [150],\n",
       "       [151],\n",
       "       [152],\n",
       "       [153],\n",
       "       [154],\n",
       "       [155],\n",
       "       [156],\n",
       "       [157],\n",
       "       [158],\n",
       "       [159],\n",
       "       [160],\n",
       "       [161],\n",
       "       [162],\n",
       "       [163],\n",
       "       [164],\n",
       "       [165],\n",
       "       [166]])"
      ]
     },
     "execution_count": 14,
     "metadata": {},
     "output_type": "execute_result"
    }
   ],
   "source": [
    "# Make new Data input\n",
    "predict_date = np.arange(137,167).reshape(-1,1)\n",
    "predict_date"
   ]
  },
  {
   "cell_type": "code",
   "execution_count": 15,
   "metadata": {
    "id": "sUuRT2cWlIw8",
    "outputId": "a1d639a4-497f-47ef-d420-01cecee8bec1"
   },
   "outputs": [
    {
     "data": {
      "text/plain": [
       "array([5.4148475 , 5.35883307, 5.30260065, 5.24615023, 5.18948181,\n",
       "       5.13259539, 5.07549097, 5.01816855, 4.96062814, 4.90286972,\n",
       "       4.84489331, 4.78669889, 4.72828648, 4.66965607, 4.61080766,\n",
       "       4.55174125, 4.49245684, 4.43295444, 4.37323403, 4.31329563,\n",
       "       4.25313922, 4.19276482, 4.13217242, 4.07136202, 4.01033362,\n",
       "       3.94908722, 3.88762283, 3.82594043, 3.76404004, 3.70192164])"
      ]
     },
     "execution_count": 15,
     "metadata": {},
     "output_type": "execute_result"
    }
   ],
   "source": [
    "\n",
    "\n",
    "poly_x_test_new = poly_reg.fit_transform(predict_date)\n",
    "predict_cases = model.predict(poly_x_test_new)\n",
    "predict_cases\n"
   ]
  },
  {
   "cell_type": "markdown",
   "metadata": {
    "id": "L4lmNs_9lIw9"
   },
   "source": [
    "5. Data Analysis\n",
    "Pada kesempatan kali ini kita akan melakukan analysis. Pertama dengan membuat grafik 30 hari kedepan. lalu menganalisis grafik dan model kita."
   ]
  },
  {
   "cell_type": "code",
   "execution_count": 16,
   "metadata": {
    "cellView": "code",
    "id": "F3IoyhpAlIw9",
    "outputId": "bbbecd5e-6a1f-444f-ca1d-217b797d6c4f"
   },
   "outputs": [
    {
     "data": {
      "text/plain": [
       "[<matplotlib.lines.Line2D at 0x25d585fa5c8>]"
      ]
     },
     "execution_count": 16,
     "metadata": {},
     "output_type": "execute_result"
    },
    {
     "data": {
      "image/png": "[encoded data removed]",
      "text/plain": [
       "<Figure size 432x288 with 1 Axes>"
      ]
     },
     "metadata": {
      "needs_background": "light"
     },
     "output_type": "display_data"
    }
   ],
   "source": [
    "fig, ax = plt.subplots(figsize=(6,4))\n",
    "plt.title('Forecasting New Cases Covid in Indonesia')\n",
    "plt.xlabel('X-Day After 1 July 2021')\n",
    "plt.ylabel('Amount of New Cases')\n",
    "predict_cases = np.exp(predict_cases)\n",
    "ax.plot(predict_date, predict_cases, 'o')"
   ]
  },
  {
   "cell_type": "markdown",
   "metadata": {},
   "source": [
    "we can see from the graph above that the cases of covid-19 in Indonesia will continue to decrease every day. After seeing this we must take action to better maintain this number and not negligent in carrying out health protocols "
   ]
  },
  {
   "cell_type": "markdown",
   "metadata": {},
   "source": [
    "# Comparison Using Polynomial Regression and Not Using it"
   ]
  },
  {
   "cell_type": "code",
   "execution_count": 17,
   "metadata": {},
   "outputs": [
    {
     "data": {
      "image/png": "[encoded data removed]",
      "text/plain": [
       "<Figure size 576x360 with 1 Axes>"
      ]
     },
     "metadata": {
      "needs_background": "light"
     },
     "output_type": "display_data"
    }
   ],
   "source": [
    "y_tests = sorted(y_test, reverse=True)\n",
    "y_preds = sorted(y_pred, reverse=True)\n",
    "\n",
    "fig, ax = plt.subplots(figsize=(8,5))\n",
    "ax.set_title('Data Covid Before and After Using Polynomial Regression')\n",
    "y_tests = np.exp(y_tests)\n",
    "y_preds = np.exp(y_preds)\n",
    "ax.plot(X_tests, y_tests)\n",
    "ax.plot(X_tests, y_preds)\n",
    "plt.legend([\"Before Polym\", \"After Polym\"], loc =\"upper right\")\n",
    "\n",
    "plt.show()"
   ]
  }
 ],
 "metadata": {
  "colab": {
   "name": "tugas_03.ipynb",
   "provenance": []
  },
  "interpreter": {
   "hash": "b02d93efda564da1915d42b0288c26f05ac833e7645184a564f32e638d57cc3e"
  },
  "kernelspec": {
   "display_name": "Python 3",
   "language": "python",
   "name": "python3"
  },
  "language_info": {
   "codemirror_mode": {
    "name": "ipython",
    "version": 3
   },
   "file_extension": ".py",
   "mimetype": "text/x-python",
   "name": "python",
   "nbconvert_exporter": "python",
   "pygments_lexer": "ipython3",
   "version": "3.7.6"
  }
 },
 "nbformat": 4,
 "nbformat_minor": 1
}
